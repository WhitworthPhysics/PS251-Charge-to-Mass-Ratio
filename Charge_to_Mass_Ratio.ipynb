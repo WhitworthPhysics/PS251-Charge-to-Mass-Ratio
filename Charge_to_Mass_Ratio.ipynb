{
  "nbformat": 4,
  "nbformat_minor": 0,
  "metadata": {
    "colab": {
      "name": "Charge to Mass Ratio.ipynb",
      "provenance": [],
      "collapsed_sections": [],
      "authorship_tag": "ABX9TyMEifl78zRZx2TQ3Vp14C3r"
    },
    "kernelspec": {
      "name": "python3",
      "display_name": "Python 3"
    },
    "language_info": {
      "name": "python"
    }
  },
  "cells": [
    {
      "cell_type": "markdown",
      "metadata": {
        "id": "q3RGqGK9Scls"
      },
      "source": [
        "Partner: \n",
        "\n",
        "Date: "
      ]
    },
    {
      "cell_type": "markdown",
      "metadata": {
        "id": "WRrSX_44WNmo"
      },
      "source": [
        "# Objectives\n",
        "* To verify that there is a linear relationship between stopping voltage and the inverse wavelength of the exciting light in a photoelectric effect apparatus.\n",
        "* To calculate Planck's constant from the slope of the best fit line to the stopping voltage vs. inverse wavelength data."
      ]
    },
    {
      "cell_type": "markdown",
      "metadata": {
        "id": "bf9uRh5aTh0C"
      },
      "source": [
        "# Install and import libraries"
      ]
    },
    {
      "cell_type": "code",
      "metadata": {
        "id": "ID4bUeLoSUqf"
      },
      "source": [
        "!pip install whit-phys-util 1>/dev/null"
      ],
      "execution_count": null,
      "outputs": []
    },
    {
      "cell_type": "code",
      "metadata": {
        "id": "iXrGRQXcT0Qs"
      },
      "source": [
        "import numpy as np\n",
        "import pandas as pd\n",
        "import matplotlib.pyplot as plt\n",
        "import whit_phys_util as buc\n",
        "import scipy.constants as sciConst"
      ],
      "execution_count": null,
      "outputs": []
    },
    {
      "cell_type": "markdown",
      "metadata": {
        "id": "AAbdfrfzKwnr"
      },
      "source": [
        "# Theory"
      ]
    },
    {
      "cell_type": "markdown",
      "metadata": {
        "id": "UuogxJOHK1LR"
      },
      "source": [
        "## Question 1"
      ]
    },
    {
      "cell_type": "markdown",
      "metadata": {
        "id": "_o-wpBLwK6FD"
      },
      "source": [
        "## Question 2"
      ]
    },
    {
      "cell_type": "markdown",
      "metadata": {
        "id": "qk5YfEAzT3rK"
      },
      "source": [
        "# Connect to GitHub"
      ]
    },
    {
      "cell_type": "code",
      "metadata": {
        "id": "-yvt5gjGVDQ8"
      },
      "source": [
        "repo = buc.local_repository(\"replace me\")"
      ],
      "execution_count": null,
      "outputs": []
    },
    {
      "cell_type": "markdown",
      "metadata": {
        "id": "j1M-y_icVGWJ"
      },
      "source": [
        "# Equipment and materials\n",
        "| Description | Manufacturer | Model | ID or SN |\n",
        "| ----------- | ------------ | ----- | -------- |\n",
        "| $e/m$ apparatus | Nakamura | fill-in | fill in |\n",
        "| power supply (for accelerating and filament heater) | Heathkit | fill in | fill in |\n",
        "| power supply (for field coils) | Cenco | fill in | fill in |\n",
        "| digital multimeters (2) | Fluke | fill in | fill in |\n",
        "| banana cables | --- | --- | --- |\n",
        "\n",
        "_You should replace the **fill in** entries with appropriate info._\n"
      ]
    },
    {
      "cell_type": "markdown",
      "metadata": {
        "id": "ixiim0TMGZJh"
      },
      "source": [
        "# Import data"
      ]
    },
    {
      "cell_type": "code",
      "metadata": {
        "id": "gQUTtSNBilUI"
      },
      "source": [
        "repo.pull()"
      ],
      "execution_count": null,
      "outputs": []
    },
    {
      "cell_type": "markdown",
      "metadata": {
        "id": "UoOHTv5SJS3Z"
      },
      "source": [
        "# Analysis"
      ]
    },
    {
      "cell_type": "code",
      "metadata": {
        "id": "6k-HHoNXJVFk"
      },
      "source": [
        ""
      ],
      "execution_count": null,
      "outputs": []
    }
  ]
}
